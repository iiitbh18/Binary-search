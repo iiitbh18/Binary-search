{
  "nbformat": 4,
  "nbformat_minor": 0,
  "metadata": {
    "colab": {
      "name": "Time_Series_forcasting_MA.ipynb",
      "provenance": [],
      "authorship_tag": "ABX9TyMPvk61XBk2ufzcdHnusCie",
      "include_colab_link": true
    },
    "kernelspec": {
      "name": "python3",
      "display_name": "Python 3"
    },
    "language_info": {
      "name": "python"
    }
  },
  "cells": [
    {
      "cell_type": "markdown",
      "metadata": {
        "id": "view-in-github",
        "colab_type": "text"
      },
      "source": [
        "<a href=\"https://colab.research.google.com/github/iiitbh18/Binary-search/blob/main/Time_Series_forcasting_MA.ipynb\" target=\"_parent\"><img src=\"https://colab.research.google.com/assets/colab-badge.svg\" alt=\"Open In Colab\"/></a>"
      ]
    },
    {
      "cell_type": "code",
      "metadata": {
        "colab": {
          "base_uri": "https://localhost:8080/"
        },
        "id": "p6klJFPSL0Y9",
        "outputId": "4555888e-2fc1-4ada-fa3b-6e07608eb175"
      },
      "source": [
        "import numpy as np\n",
        "import pandas as pd\n",
        "from statsmodels.tsa.arima_model import ARMA\n",
        "\n",
        "df = pd.read_csv('https://raw.githubusercontent.com/selva86/datasets/master/a10.csv', parse_dates=['date'])\n",
        "df.head()\n",
        "\n",
        "train_data = df[1:len(df)-12]\n",
        "test_data = df[len(df)-12:]\n",
        "\n",
        "model = ARMA(train_data.value, order=(0, 1)).fit()\n",
        "\n",
        "predictions = model.predict(start=len(train_data), end=len(train_data) + len(test_data)-1)\n",
        "print(predictions)"
      ],
      "execution_count": 2,
      "outputs": [
        {
          "output_type": "stream",
          "text": [
            "192    11.938395\n",
            "193     9.944262\n",
            "194     9.944262\n",
            "195     9.944262\n",
            "196     9.944262\n",
            "197     9.944262\n",
            "198     9.944262\n",
            "199     9.944262\n",
            "200     9.944262\n",
            "201     9.944262\n",
            "202     9.944262\n",
            "203     9.944262\n",
            "dtype: float64\n"
          ],
          "name": "stdout"
        }
      ]
    }
  ]
}